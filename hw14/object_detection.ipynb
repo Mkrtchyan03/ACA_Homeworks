{
  "cells": [
    {
      "cell_type": "code",
      "execution_count": null,
      "id": "17d4d9e4",
      "metadata": {
        "id": "17d4d9e4"
      },
      "outputs": [],
      "source": [
        "import os\n",
        "from IPython.display import display\n",
        "os.environ['TF_CPP_MIN_LOG_LEVEL'] = '2'\n",
        "import pathlib\n",
        "import tensorflow as tf\n",
        "import cv2\n",
        "\n",
        "\n",
        "# Set the paths for the image, saved model, and annotations\n",
        "\n",
        "IMAGE_PATHS = ''  # Path to your input image\n",
        "PATH_TO_MODEL_DIR = ''  # Path to your saved model directory\n",
        "PATH_TO_LABELS = ''  # Path to your label map file\n",
        "MIN_CONF_THRESH = float(0.60)\n",
        "\n",
        "# Import necessary modules\n",
        "\n",
        "from object_detection.utils import label_map_util\n",
        "from object_detection.utils import visualization_utils as viz_utils\n",
        "\n",
        "# Load the saved model\n",
        "PATH_TO_SAVED_MODEL = PATH_TO_MODEL_DIR\n",
        "detect_fn = tf.saved_model.load(PATH_TO_SAVED_MODEL)\n",
        "\n",
        "# Create the category index from the label map file\n",
        "\n",
        "category_index = label_map_util.create_category_index_from_labelmap(PATH_TO_LABELS,\n",
        "                                                                    use_display_name=True)\n",
        "import numpy as np\n",
        "from PIL import Image\n",
        "import matplotlib.pyplot as plt\n",
        "import warnings\n",
        "warnings.filterwarnings('ignore')   # Suppress Matplotlib warnings\n",
        "\n",
        "image = cv2.imread(IMAGE_PATHS)\n",
        "image_rgb = cv2.cvtColor(image, cv2.COLOR_BGR2RGB)\n",
        "\n",
        "# Expand dimensions of the image for the model input\n",
        "\n",
        "image_expanded = np.expand_dims(image_rgb, axis=0)\n",
        "input_tensor = tf.convert_to_tensor(image)\n",
        "input_tensor = input_tensor[tf.newaxis, ...]\n",
        "\n",
        "# Perform object detection on the input image\n",
        "\n",
        "detections = detect_fn(input_tensor)\n",
        "num_detections = int(detections.pop('num_detections'))\n",
        "detections = {key: value[0, :num_detections].numpy()\n",
        "               for key, value in detections.items()}\n",
        "detections['num_detections'] = num_detections\n",
        "detections['detection_classes'] = detections['detection_classes'].astype(np.int64)\n",
        "image_with_detections = image.copy()\n",
        "viz_utils.visualize_boxes_and_labels_on_image_array(\n",
        "      image_with_detections,\n",
        "      detections['detection_boxes'],\n",
        "      detections['detection_classes'],\n",
        "      detections['detection_scores'],\n",
        "      category_index,\n",
        "      use_normalized_coordinates=True,\n",
        "      max_boxes_to_draw=200,\n",
        "      min_score_thresh=0.5,\n",
        "      agnostic_mode=False,\n",
        "      line_thickness=2)\n",
        "# cv2_imshow(image_with_detections)\n",
        "display(Image.fromarray(image_with_detections))"
      ]
    }
  ],
  "metadata": {
    "kernelspec": {
      "display_name": "Python 3 (ipykernel)",
      "language": "python",
      "name": "python3"
    },
    "language_info": {
      "codemirror_mode": {
        "name": "ipython",
        "version": 3
      },
      "file_extension": ".py",
      "mimetype": "text/x-python",
      "name": "python",
      "nbconvert_exporter": "python",
      "pygments_lexer": "ipython3",
      "version": "3.10.9"
    },
    "colab": {
      "provenance": []
    }
  },
  "nbformat": 4,
  "nbformat_minor": 5
}